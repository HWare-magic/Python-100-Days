{
 "cells": [
  {
   "cell_type": "code",
   "execution_count": 2,
   "id": "c0daed82",
   "metadata": {
    "ExecuteTime": {
     "end_time": "2022-10-25T15:42:18.405251Z",
     "start_time": "2022-10-25T15:42:18.398271Z"
    }
   },
   "outputs": [],
   "source": [
    "from docx import Document\n",
    "from docx.shared import Inches"
   ]
  },
  {
   "cell_type": "code",
   "execution_count": 48,
   "id": "38dea242",
   "metadata": {
    "ExecuteTime": {
     "end_time": "2022-10-26T05:50:23.504505Z",
     "start_time": "2022-10-26T05:50:23.452644Z"
    }
   },
   "outputs": [],
   "source": [
    "document = Document()  ## 创建一个对象\n",
    "document.add_heading('Document Title', 0)  ## \n",
    "p = document.add_paragraph('A plain paragraph having som')\n",
    "p.add_run('bold').bold =True\n",
    "p.add_run('ilolic').ilalic =True\n",
    "document.add_heading('Heading, level 1', level=1)\n",
    "document.add_paragraph('{name}is tess',style ='List Bullet')\n",
    "document.add_paragraph('{ID}is shenfengzheng  ',style ='List Number')\n",
    "document.add_paragraph('{year} shi nianfen')\n",
    "document.add_picture('./4.jpg',width=Inches(1.25))\n",
    "table = document.add_table(rows=1,cols=3)\n",
    "cells = table.rows[0].cells\n",
    "cells[0].text='num'\n",
    "cells[1].text='qwe'\n",
    "cells[2].text ='asd'\n",
    "test = [('1','2','3'),('a','b','bv'),('z','s','day 3')]\n",
    "for num,qwe,asd in test:\n",
    "    tt = table.add_row().cells\n",
    "    tt[0].text = num\n",
    "    tt[1].text = qwe\n",
    "    tt[2].text =asd\n",
    "document.save('text.docx')\n"
   ]
  },
  {
   "cell_type": "code",
   "execution_count": 38,
   "id": "e6ed5ea7",
   "metadata": {
    "ExecuteTime": {
     "end_time": "2022-10-26T05:12:49.808781Z",
     "start_time": "2022-10-26T05:12:49.799805Z"
    }
   },
   "outputs": [],
   "source": [
    "\n",
    "changealbe =[{'name':'zy','ID':'123214','year':'19961212'},{'name':'wql','ID':'123314','year':'19961112'}]"
   ]
  },
  {
   "cell_type": "code",
   "execution_count": 40,
   "id": "eb8a2b24",
   "metadata": {
    "ExecuteTime": {
     "end_time": "2022-10-26T05:13:22.452091Z",
     "start_time": "2022-10-26T05:13:22.378290Z"
    }
   },
   "outputs": [],
   "source": [
    "for change in changealbe:\n",
    "    doc =Document('./text.docx') # type :Doc\n",
    "    for p in doc.paragraphs:\n",
    "        if \"{\" not in p.text:\n",
    "            continue\n",
    "        for run in p.runs:\n",
    "            if \"{\" not in run.text:\n",
    "                continue\n",
    "            start,fin = run.text.find('{'),run.text.find(\"}\")\n",
    "            key ,b_palced = run.text[start+1:fin],run.text[start:fin+1]\n",
    "            run.text =  run.text.replace(b_palced,change[key])\n",
    "    doc.save(f'{change[\"name\"]}.docx')\n",
    "            "
   ]
  },
  {
   "cell_type": "code",
   "execution_count": 35,
   "id": "d69f6f76",
   "metadata": {
    "ExecuteTime": {
     "end_time": "2022-10-26T05:10:32.081366Z",
     "start_time": "2022-10-26T05:10:32.064383Z"
    }
   },
   "outputs": [
    {
     "data": {
      "text/plain": [
       "10"
      ]
     },
     "execution_count": 35,
     "metadata": {},
     "output_type": "execute_result"
    }
   ],
   "source": [
    "ad = 'df{uqhewns}d'\n",
    "ad.find('}')"
   ]
  },
  {
   "cell_type": "markdown",
   "id": "12269b94",
   "metadata": {},
   "source": [
    "# 笔记\n",
    "- 创建一个doc对象  需要在后注释 #tpye：Doc  这是因为这里的document是一个行数  要把它指到真的对象才能 使用语补全 函数的话可以直接读取一个word文档 当成对象\n",
    "- 添加一个标题 doc.add_heading()\n",
    "- 添加一个段落 p=doc.add_paragraph()\n",
    "- 段落中添加内容 p.add_run()  添加字体样式 在之前的对象中调用的属性.bold=True:加粗 .ilalic = True:斜体\n",
    "- 添加一个表格 doc.add_table(rows = ,cols =)  表格中需要对对象的属性 为cell 可以指定一个格子  先创建表头 然后用循环的方式将列表或者元组的内容填入  table.rows[0].cells 得到行单元 然后再通过cells[0].text 来对单元格赋值 \n",
    "## 批量替换\n",
    "-  先创建字典的列表  让后找到{}的位置 -- 使用字符串的查找功能find的方法\n",
    "- 使用字符串替代方法 run.text.replace(old,dict[key]) 来替换"
   ]
  },
  {
   "cell_type": "code",
   "execution_count": null,
   "id": "406bd868",
   "metadata": {},
   "outputs": [],
   "source": []
  }
 ],
 "metadata": {
  "kernelspec": {
   "display_name": "Python 3 (ipykernel)",
   "language": "python",
   "name": "python3"
  },
  "language_info": {
   "codemirror_mode": {
    "name": "ipython",
    "version": 3
   },
   "file_extension": ".py",
   "mimetype": "text/x-python",
   "name": "python",
   "nbconvert_exporter": "python",
   "pygments_lexer": "ipython3",
   "version": "3.7.12"
  },
  "toc": {
   "base_numbering": 1,
   "nav_menu": {},
   "number_sections": true,
   "sideBar": true,
   "skip_h1_title": false,
   "title_cell": "Table of Contents",
   "title_sidebar": "Contents",
   "toc_cell": false,
   "toc_position": {},
   "toc_section_display": true,
   "toc_window_display": false
  }
 },
 "nbformat": 4,
 "nbformat_minor": 5
}
