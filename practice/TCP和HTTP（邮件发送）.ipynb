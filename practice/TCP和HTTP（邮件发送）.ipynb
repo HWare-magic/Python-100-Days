{
 "cells": [
  {
   "cell_type": "code",
   "execution_count": 1,
   "id": "801f979c",
   "metadata": {},
   "outputs": [
    {
     "name": "stdout",
     "output_type": "stream",
     "text": [
      "2022-09-07 14:29:53.091440\n"
     ]
    }
   ],
   "source": [
    "from socket import socket\n",
    "\n",
    "\n",
    "def main():\n",
    "    # 1.创建套接字对象默认使用IPv4和TCP协议\n",
    "    client = socket()\n",
    "    # 2.连接到服务器(需要指定IP地址和端口)\n",
    "    client.connect(('192.168.148.1', 9445))\n",
    "    # 3.从服务器接收数据\n",
    "    print(client.recv(1024).decode('utf-8'))\n",
    "    client.close()\n",
    "\n",
    "\n",
    "if __name__ == '__main__':\n",
    "    main()"
   ]
  },
  {
   "cell_type": "code",
   "execution_count": 1,
   "id": "cd94ba1f",
   "metadata": {
    "ExecuteTime": {
     "end_time": "2022-10-26T13:44:00.455612Z",
     "start_time": "2022-10-26T13:43:58.793241Z"
    }
   },
   "outputs": [
    {
     "name": "stdout",
     "output_type": "stream",
     "text": [
      "邮件发送完成!\n"
     ]
    }
   ],
   "source": [
    "from smtplib import SMTP\n",
    "from email.header import Header\n",
    "from email.mime.text import MIMEText\n",
    "\n",
    "\n",
    "def main():\n",
    "    # 请自行修改下面的邮件发送者和接收者\n",
    "    sender = '352363530@qq.com'\n",
    "    receivers = ['12131139@mail.sustech.edu.cn']\n",
    "    message = MIMEText('用Python发送邮件的示例代码.', 'plain', 'utf-8')\n",
    "    message['From'] = Header('王大锤', 'utf-8')\n",
    "    message['To'] = Header('骆昊', 'utf-8')\n",
    "    message['Subject'] = Header('示例代码实验邮件', 'utf-8')\n",
    "    smtper = SMTP('smtp.qq.com')\n",
    "    # 请自行修改下面的登录口令\n",
    "    smtper.login(sender, 'aogwlfxhftkxbjca') ## 这个登录密码需要记住\n",
    "    smtper.sendmail(sender, receivers, message.as_string())\n",
    "    print('邮件发送完成!')\n",
    "\n",
    "\n",
    "if __name__ == '__main__':\n",
    "    main()"
   ]
  },
  {
   "cell_type": "markdown",
   "id": "73030bb1",
   "metadata": {},
   "source": [
    "## 邮件发送  从零开始"
   ]
  },
  {
   "cell_type": "code",
   "execution_count": 13,
   "id": "9c6b5e7b",
   "metadata": {
    "ExecuteTime": {
     "end_time": "2022-10-26T15:48:36.774549Z",
     "start_time": "2022-10-26T15:48:36.760588Z"
    }
   },
   "outputs": [],
   "source": [
    "import smtplib \n",
    "from email.header import Header\n",
    "from email.mime.text import MIMEText\n",
    "from email.mime.multipart import MIMEMultipart\n",
    "from urllib.parse  import quote  ## 百分号编码中文  "
   ]
  },
  {
   "cell_type": "code",
   "execution_count": 17,
   "id": "ab2012c6",
   "metadata": {
    "ExecuteTime": {
     "end_time": "2022-10-26T15:50:07.504756Z",
     "start_time": "2022-10-26T15:50:06.158096Z"
    }
   },
   "outputs": [
    {
     "data": {
      "text/plain": [
       "{}"
      ]
     },
     "execution_count": 17,
     "metadata": {},
     "output_type": "execute_result"
    }
   ],
   "source": [
    "smtp_obj = smtplib.SMTP_SSL(host=\"smtp.qq.com\",port=465)\n",
    "smtp_obj.login('352363530@qq.com','aogwlfxhftkxbjca')\n",
    "smtp_obj.sendmail('352363530@qq.com',['12131139@mail.sustech.edu.cn'],email.as_string())"
   ]
  },
  {
   "cell_type": "code",
   "execution_count": 16,
   "id": "20a6708f",
   "metadata": {
    "ExecuteTime": {
     "end_time": "2022-10-26T15:50:04.106314Z",
     "start_time": "2022-10-26T15:50:04.084350Z"
    }
   },
   "outputs": [],
   "source": [
    "email = MIMEMultipart()\n",
    "email['From']=Header('352363530@qq.com','utf-8')\n",
    "email['to'] =Header('12131139@mail.sustech.edu.cn','utf-8')\n",
    "email['subject']= Header('attach','utf-8')\n",
    "email.attach(MIMEText('zheshiyige cishiyoujian','plain','utf-8'))\n",
    "with open('./demo.docx','rb') as file:\n",
    "    attachment = MIMEText(file.read(),'base64','utf-8')\n",
    "    attachment['content-type'] ='application/octer-stream'\n",
    "    filename ='庄议的邮件.docx'\n",
    "    filenn = quote(filename)\n",
    "    attachment['content-disposition'] = f'attachment;filename=\"{filenn}\"'\n",
    "email.attach(attachment)"
   ]
  },
  {
   "cell_type": "markdown",
   "id": "5172e0a4",
   "metadata": {},
   "source": [
    "# 笔记\n",
    "- 步骤分为三部 \n",
    " - 第一 先建立链接SMTP_SSL()\n",
    " - 第二 登录obj.login('邮箱地址'，'申请的密码')\n",
    " - 第三 发送邮件obj.sendmail('邮箱地址'.'目标邮箱地址'，email.as_string())\n",
    "- 其中 对象email需要包含发送者(from) 接收者(to) 标题（subject） \n",
    "- 文本内容使用email.attach(MIMEText（\"\",'plain','utf-8'）)  plain 表示纯文本格式\n",
    "- 附件内容也是使用attach（'','base64',''） base64 是邮件的解码方式  并且需要指定文本的类型和显示方式\n",
    " -  attachment['content-type'] ='application/octer-stream'\n",
    " - filename ='庄议的邮件.docx'\n",
    " - filenn = quote(filename)\n",
    " - attachment['content-disposition'] = f'attachment;filename=\"{filenn}\"'"
   ]
  },
  {
   "cell_type": "code",
   "execution_count": null,
   "id": "ce0055e9",
   "metadata": {},
   "outputs": [],
   "source": []
  }
 ],
 "metadata": {
  "kernelspec": {
   "display_name": "Python 3 (ipykernel)",
   "language": "python",
   "name": "python3"
  },
  "language_info": {
   "codemirror_mode": {
    "name": "ipython",
    "version": 3
   },
   "file_extension": ".py",
   "mimetype": "text/x-python",
   "name": "python",
   "nbconvert_exporter": "python",
   "pygments_lexer": "ipython3",
   "version": "3.7.12"
  },
  "toc": {
   "base_numbering": 1,
   "nav_menu": {},
   "number_sections": true,
   "sideBar": true,
   "skip_h1_title": false,
   "title_cell": "Table of Contents",
   "title_sidebar": "Contents",
   "toc_cell": false,
   "toc_position": {},
   "toc_section_display": true,
   "toc_window_display": false
  }
 },
 "nbformat": 4,
 "nbformat_minor": 5
}
